{
 "cells": [
  {
   "cell_type": "markdown",
   "id": "a0bc80c7-2b7b-4048-b863-2ec75a860aa5",
   "metadata": {
    "execution": {
     "iopub.execute_input": "2021-12-08T14:19:28.644668Z",
     "iopub.status.busy": "2021-12-08T14:19:28.643769Z",
     "iopub.status.idle": "2021-12-08T14:19:28.855117Z",
     "shell.execute_reply": "2021-12-08T14:19:28.854454Z",
     "shell.execute_reply.started": "2021-12-08T14:19:28.644627Z"
    }
   },
   "source": [
    "在open entity数据集的测试集上，得到的F1为78.156\n",
    "\n",
    "```bash\n",
    "pip install regex\n",
    "cd run/open_entity\n",
    "\n",
    "\n",
    "python -m paddle.distributed.launch --gpus \"0\" train.py \\\n",
    "    --model_name_or_path bert-base-uncased \\\n",
    "    --batch_size 32 \\\n",
    "    --num_warmup_steps 158 \\\n",
    "    --data_set_dir ../../dataset/OpenEntity \\\n",
    "    --model_name_or_path ../../pretrained_model/luke-large-finetuned-open-entity \\\n",
    "    --test_only\n",
    "```"
   ]
  },
  {
   "cell_type": "markdown",
   "id": "edf12c50-e7e2-4100-9830-feae0e5e7716",
   "metadata": {},
   "source": [
    "测试结果如图所示\n",
    "\n",
    "![](pic/open_entity_test_f1.png)"
   ]
  },
  {
   "cell_type": "code",
   "execution_count": null,
   "id": "e0312732-ac25-412d-ab4b-5c1db584af48",
   "metadata": {},
   "outputs": [],
   "source": []
  }
 ],
 "metadata": {
  "kernelspec": {
   "display_name": "Python 3",
   "language": "python",
   "name": "py35-paddle1.2.0"
  },
  "language_info": {
   "codemirror_mode": {
    "name": "ipython",
    "version": 3
   },
   "file_extension": ".py",
   "mimetype": "text/x-python",
   "name": "python",
   "nbconvert_exporter": "python",
   "pygments_lexer": "ipython3",
   "version": "3.7.4"
  }
 },
 "nbformat": 4,
 "nbformat_minor": 5
}