{
 "cells": [
  {
   "cell_type": "code",
   "execution_count": null,
   "metadata": {
    "collapsed": true
   },
   "outputs": [],
   "source": [
    "import json\n",
    "\n",
    "import numpy as np\n",
    "import paddle\n",
    "from transformers import LukeTokenizer\n",
    "import torch\n",
    "from task.squad.train import load_examples, get_args_parser\n",
    "from luke.tokenizer import LukeTokenizer\n",
    "np.random.seed(42)"
   ]
  },
  {
   "cell_type": "code",
   "execution_count": null,
   "outputs": [],
   "source": [
    "parser = get_args_parser()\n",
    "args = parser.parse_args(\n",
    "    args=[\n",
    "        '--task_name', 'squad',\n",
    "        \"--wiki-link-db-file\",\n",
    "\"../../../../wiki_pkl/luke_squad_wikipedia_data/enwiki_20160305.pkl\",\n",
    "\"--model-redirects-file\",\n",
    "\"../../../../wiki_pkl/luke_squad_wikipedia_data/enwiki_20181220_redirects.pkl\",\n",
    "\"--link-redirects-file\",\n",
    "\"../../../../wiki_pkl/luke_squad_wikipedia_data/enwiki_20160305_redirects.pkl\",\n",
    "        \"--data_dir\", \"../../../../dataset/squad\",\n",
    "        \"--entity_vocab_tsv\", \"../../../../weight/pd/luke-for-squad/entity_vocab.tsv\"\n",
    "    ]\n",
    ")\n",
    "# jupyter notebook --notebook-dir='/Users/zhongkai/PycharmProjects/Paddle-LUKE'"
   ],
   "metadata": {
    "collapsed": false,
    "pycharm": {
     "name": "#%%\n"
    }
   }
  },
  {
   "cell_type": "code",
   "execution_count": null,
   "outputs": [],
   "source": [
    "args.tokenizer = LukeTokenizer.from_pretrained(\"../../../../weight/pd/luke-large-finetuned-open-entity\")\n"
   ],
   "metadata": {
    "collapsed": false,
    "pycharm": {
     "name": "#%%\n"
    }
   }
  },
  {
   "cell_type": "code",
   "execution_count": null,
   "outputs": [
    {
     "name": "stderr",
     "output_type": "stream",
     "text": [
      "INFO:task.squad.train:Creating features from the dataset...\n",
      "100%|██████████| 10570/10570 [01:23<00:00, 126.90it/s]\n"
     ]
    }
   ],
   "source": [
    "train_dataloader, examples, features, _ = load_examples(args, is_evaluate=True)"
   ],
   "metadata": {
    "collapsed": false,
    "pycharm": {
     "name": "#%%\n"
    }
   }
  },
  {
   "cell_type": "code",
   "execution_count": null,
   "outputs": [],
   "source": [
    "e = examples[-1]\n",
    "f = features[-1]\n",
    "example = dict(\n",
    "    answer_texts=e.answer_texts,\n",
    "    answers=e.answers,\n",
    "    context_text=e.context_text,\n",
    "    doc_tokens=e.doc_tokens,\n",
    "    end_positions=e.end_positions,\n",
    "    is_impossible=e.is_impossible,\n",
    "    qas_id=e.qas_id,\n",
    "    question_text=e.question_text,\n",
    "    start_positions=e.start_positions,\n",
    "    title=e.title\n",
    ")\n",
    "feature=dict(\n",
    "    token_is_max_context=f.token_is_max_context,\n",
    "    token_to_orig_map=f.token_to_orig_map,\n",
    "    tokens=f.tokens,\n",
    "    word_ids=f.word_ids,\n",
    "    word_attention_mask=f.word_attention_mask,\n",
    "    word_segment_ids=f.word_segment_ids\n",
    ")"
   ],
   "metadata": {
    "collapsed": false,
    "pycharm": {
     "name": "#%%\n"
    }
   }
  },
  {
   "cell_type": "code",
   "execution_count": null,
   "outputs": [],
   "source": [
    "# json.dump(example, open(\"example.json\", \"w\"))\n",
    "# json.dump(feature, open(\"feature.json\", \"w\"))"
   ],
   "metadata": {
    "collapsed": false,
    "pycharm": {
     "name": "#%%\n"
    }
   }
  },
  {
   "cell_type": "code",
   "execution_count": null,
   "outputs": [
    {
     "ename": "TypeError",
     "evalue": "_get_offset_mapping() missing 2 required positional arguments: 'token_to_orig_map' and 'doc_tokens'",
     "output_type": "error",
     "traceback": [
      "\u001B[0;31m---------------------------------------------------------------------------\u001B[0m",
      "\u001B[0;31mTypeError\u001B[0m                                 Traceback (most recent call last)",
      "\u001B[0;32m/var/folders/zb/7k2lc0lx4q1g7ww2vnt031yr0000gn/T/ipykernel_30867/3142643529.py\u001B[0m in \u001B[0;36m<module>\u001B[0;34m\u001B[0m\n\u001B[1;32m      2\u001B[0m \u001B[0;31m# temp = args.tokenizer.get_offset_mapping(\"Super Bowl 50 was an American football game to determine the champion of the National Football League (NFL) for the 2015 season.\")\u001B[0m\u001B[0;34m\u001B[0m\u001B[0;34m\u001B[0m\u001B[0;34m\u001B[0m\u001B[0m\n\u001B[1;32m      3\u001B[0m \u001B[0;32mfrom\u001B[0m \u001B[0mtask\u001B[0m\u001B[0;34m.\u001B[0m\u001B[0msquad\u001B[0m\u001B[0;34m.\u001B[0m\u001B[0mget_metric_feature\u001B[0m \u001B[0;32mimport\u001B[0m \u001B[0mget_metric_feature\u001B[0m\u001B[0;34m\u001B[0m\u001B[0;34m\u001B[0m\u001B[0m\n\u001B[0;32m----> 4\u001B[0;31m \u001B[0me\u001B[0m\u001B[0;34m,\u001B[0m \u001B[0mf\u001B[0m \u001B[0;34m=\u001B[0m \u001B[0mget_metric_feature\u001B[0m\u001B[0;34m(\u001B[0m\u001B[0mexample\u001B[0m\u001B[0;34m,\u001B[0m \u001B[0mfeature\u001B[0m\u001B[0;34m)\u001B[0m\u001B[0;34m\u001B[0m\u001B[0;34m\u001B[0m\u001B[0m\n\u001B[0m",
      "\u001B[0;32m~/PycharmProjects/Paddle-LUKE/task/squad/get_metric_feature.py\u001B[0m in \u001B[0;36mget_metric_feature\u001B[0;34m(ori_example, ori_feature)\u001B[0m\n\u001B[1;32m    102\u001B[0m \u001B[0;34m\u001B[0m\u001B[0m\n\u001B[1;32m    103\u001B[0m     \u001B[0mexample\u001B[0m \u001B[0;34m=\u001B[0m \u001B[0m_get_example\u001B[0m\u001B[0;34m(\u001B[0m\u001B[0mori_example\u001B[0m\u001B[0;34m)\u001B[0m\u001B[0;34m\u001B[0m\u001B[0;34m\u001B[0m\u001B[0m\n\u001B[0;32m--> 104\u001B[0;31m     \u001B[0mfeature\u001B[0m \u001B[0;34m=\u001B[0m \u001B[0m_get_feature\u001B[0m\u001B[0;34m(\u001B[0m\u001B[0mori_example\u001B[0m\u001B[0;34m,\u001B[0m \u001B[0mori_feature\u001B[0m\u001B[0;34m)\u001B[0m\u001B[0;34m\u001B[0m\u001B[0;34m\u001B[0m\u001B[0m\n\u001B[0m\u001B[1;32m    105\u001B[0m     \u001B[0;32mreturn\u001B[0m \u001B[0mexample\u001B[0m\u001B[0;34m,\u001B[0m \u001B[0mfeature\u001B[0m\u001B[0;34m\u001B[0m\u001B[0;34m\u001B[0m\u001B[0m\n\u001B[1;32m    106\u001B[0m \u001B[0;34m\u001B[0m\u001B[0m\n",
      "\u001B[0;32m~/PycharmProjects/Paddle-LUKE/task/squad/get_metric_feature.py\u001B[0m in \u001B[0;36m_get_feature\u001B[0;34m(ori_example, ori_feature)\u001B[0m\n\u001B[1;32m     73\u001B[0m     \u001B[0mfeature\u001B[0m\u001B[0;34m[\u001B[0m\u001B[0;34m\"input_ids\"\u001B[0m\u001B[0;34m]\u001B[0m \u001B[0;34m=\u001B[0m \u001B[0mori_feature\u001B[0m\u001B[0;34m[\u001B[0m\u001B[0;34m\"word_ids\"\u001B[0m\u001B[0;34m]\u001B[0m\u001B[0;34m\u001B[0m\u001B[0;34m\u001B[0m\u001B[0m\n\u001B[1;32m     74\u001B[0m     \u001B[0mfeature\u001B[0m\u001B[0;34m[\u001B[0m\u001B[0;34m\"example_id\"\u001B[0m\u001B[0;34m]\u001B[0m \u001B[0;34m=\u001B[0m \u001B[0mori_example\u001B[0m\u001B[0;34m[\u001B[0m\u001B[0;34m\"qas_id\"\u001B[0m\u001B[0;34m]\u001B[0m\u001B[0;34m\u001B[0m\u001B[0;34m\u001B[0m\u001B[0m\n\u001B[0;32m---> 75\u001B[0;31m     \u001B[0mfeature\u001B[0m\u001B[0;34m[\u001B[0m\u001B[0;34m\"offset_mapping\"\u001B[0m\u001B[0;34m]\u001B[0m \u001B[0;34m=\u001B[0m \u001B[0m_get_offset_mapping\u001B[0m\u001B[0;34m(\u001B[0m\u001B[0mori_example\u001B[0m\u001B[0;34m[\u001B[0m\u001B[0;34m\"context_text\"\u001B[0m\u001B[0;34m]\u001B[0m\u001B[0;34m,\u001B[0m \u001B[0mori_feature\u001B[0m\u001B[0;34m[\u001B[0m\u001B[0;34m\"tokens\"\u001B[0m\u001B[0;34m]\u001B[0m\u001B[0;34m)\u001B[0m\u001B[0;34m\u001B[0m\u001B[0;34m\u001B[0m\u001B[0m\n\u001B[0m\u001B[1;32m     76\u001B[0m     \u001B[0;32mreturn\u001B[0m \u001B[0mfeature\u001B[0m\u001B[0;34m\u001B[0m\u001B[0;34m\u001B[0m\u001B[0m\n\u001B[1;32m     77\u001B[0m \u001B[0;34m\u001B[0m\u001B[0m\n",
      "\u001B[0;31mTypeError\u001B[0m: _get_offset_mapping() missing 2 required positional arguments: 'token_to_orig_map' and 'doc_tokens'"
     ]
    }
   ],
   "source": [
    "# from paddlenlp.transformers.gpt.tokenizer import\n",
    "# temp = args.tokenizer.get_offset_mapping(\"Super Bowl 50 was an American football game to determine the champion of the National Football League (NFL) for the 2015 season.\")\n",
    "from task.squad.get_metric_feature import get_metric_feature\n",
    "e, f = get_metric_feature(example, feature)"
   ],
   "metadata": {
    "collapsed": false,
    "pycharm": {
     "name": "#%%\n"
    }
   }
  },
  {
   "cell_type": "code",
   "execution_count": null,
   "outputs": [],
   "source": [],
   "metadata": {
    "collapsed": false,
    "pycharm": {
     "name": "#%%\n"
    }
   }
  }
 ],
 "metadata": {
  "kernelspec": {
   "name": "python3",
   "language": "python",
   "display_name": "Python 3 (ipykernel)"
  },
  "language_info": {
   "codemirror_mode": {
    "name": "ipython",
    "version": 2
   },
   "file_extension": ".py",
   "mimetype": "text/x-python",
   "name": "python",
   "nbconvert_exporter": "python",
   "pygments_lexer": "ipython2",
   "version": "2.7.6"
  }
 },
 "nbformat": 4,
 "nbformat_minor": 0
}